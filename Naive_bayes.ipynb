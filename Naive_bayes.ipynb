{
  "nbformat": 4,
  "nbformat_minor": 0,
  "metadata": {
    "colab": {
      "provenance": [],
      "include_colab_link": true
    },
    "kernelspec": {
      "name": "python3",
      "display_name": "Python 3"
    },
    "language_info": {
      "name": "python"
    }
  },
  "cells": [
    {
      "cell_type": "markdown",
      "metadata": {
        "id": "view-in-github",
        "colab_type": "text"
      },
      "source": [
        "<a href=\"https://colab.research.google.com/github/Rahulappu2004/Fake-Account-Detection-in-Twitter-X/blob/main/Naive_bayes.ipynb\" target=\"_parent\"><img src=\"https://colab.research.google.com/assets/colab-badge.svg\" alt=\"Open In Colab\"/></a>"
      ]
    },
    {
      "cell_type": "code",
      "execution_count": 1,
      "metadata": {
        "id": "Rq8jXPEU3t60"
      },
      "outputs": [],
      "source": [
        "# Step 1: Import Libraries\n",
        "import pandas as pd\n",
        "import numpy as np\n",
        "from sklearn.model_selection import train_test_split\n",
        "from sklearn.preprocessing import LabelEncoder, StandardScaler\n",
        "from sklearn.naive_bayes import GaussianNB\n",
        "from sklearn.metrics import accuracy_score, precision_score, recall_score, f1_score"
      ]
    },
    {
      "cell_type": "code",
      "source": [
        "# Load the data\n",
        "df = pd.read_csv('/content/bot_detection_data.csv')"
      ],
      "metadata": {
        "id": "j8ef3guRKPmH"
      },
      "execution_count": 2,
      "outputs": []
    },
    {
      "cell_type": "code",
      "source": [
        "# Handle missing values\n",
        "df = df.fillna(0)\n",
        "\n",
        "# Encode categorical variables\n",
        "label_encoder = LabelEncoder()\n",
        "df['Verified'] = label_encoder.fit_transform(df['Verified'])\n",
        "df['Location'] = label_encoder.fit_transform(df['Location'])\n",
        "df['Bot Label'] = label_encoder.fit_transform(df['Bot Label'])\n",
        "\n",
        "# Drop unnecessary columns\n",
        "df = df.drop(['User ID', 'Username', 'Created At'], axis=1)\n",
        "\n",
        "# Convert Hashtags to a numerical feature\n",
        "df['Hashtags'] = df['Hashtags'].apply(lambda x: len(x.split(',')) if isinstance(x, str) else 0)\n",
        "\n",
        "# Define features (X) and target (y)\n",
        "X = df.drop('Bot Label', axis=1)\n",
        "y = df['Bot Label']"
      ],
      "metadata": {
        "id": "R10uGWQWKnBr"
      },
      "execution_count": 3,
      "outputs": []
    },
    {
      "cell_type": "code",
      "source": [
        "# Split the data\n",
        "X_train, X_test, y_train, y_test = train_test_split(X, y, test_size=0.2, random_state=42)\n",
        "\n",
        "# Drop the 'Tweet' column before scaling\n",
        "X_train = X_train.drop('Tweet', axis=1)\n",
        "X_test = X_test.drop('Tweet', axis=1)\n",
        "\n",
        "\n",
        "# Scale the features\n",
        "scaler = StandardScaler()\n",
        "X_train = scaler.fit_transform(X_train)\n",
        "X_test = scaler.transform(X_test)"
      ],
      "metadata": {
        "id": "8_yUPVQpKqU_"
      },
      "execution_count": 5,
      "outputs": []
    },
    {
      "cell_type": "code",
      "source": [
        "# Step 3: Implement Naive Bayes\n",
        "# Initialize the model\n",
        "nb_model = GaussianNB()\n",
        "\n",
        "# Train the model\n",
        "nb_model.fit(X_train, y_train)\n",
        "\n",
        "# Make predictions\n",
        "y_pred_nb = nb_model.predict(X_test)\n",
        "\n",
        "# Evaluate the model\n",
        "accuracy_nb = accuracy_score(y_test, y_pred_nb)\n",
        "precision_nb = precision_score(y_test, y_pred_nb)\n",
        "recall_nb = recall_score(y_test, y_pred_nb)\n",
        "f1_nb = f1_score(y_test, y_pred_nb)\n",
        "\n",
        "print(\"Naive Bayes:\")\n",
        "print(f\"Accuracy: {accuracy_nb:.4f}\")\n",
        "print(f\"Precision: {precision_nb:.4f}\")\n",
        "print(f\"Recall: {recall_nb:.4f}\")\n",
        "print(f\"F1-Score: {f1_nb:.4f}\")"
      ],
      "metadata": {
        "colab": {
          "base_uri": "https://localhost:8080/"
        },
        "id": "xx4YfQi8J6YL",
        "outputId": "9867c8ba-0245-4caa-fde1-5a4aff2ae115"
      },
      "execution_count": 6,
      "outputs": [
        {
          "output_type": "stream",
          "name": "stdout",
          "text": [
            "Naive Bayes:\n",
            "Accuracy: 0.5021\n",
            "Precision: 0.5062\n",
            "Recall: 0.4308\n",
            "F1-Score: 0.4655\n"
          ]
        }
      ]
    },
    {
      "cell_type": "code",
      "source": [
        "# Step 4: Test with Custom Input\n",
        "# Example custom input\n",
        "custom_input = {\n",
        "    'Retweet Count': 1000,\n",
        "    'Mention Count': 5,\n",
        "    'Follower Count': 100,\n",
        "    'Verified': 1,\n",
        "    'Location': 3,\n",
        "    'Hashtags': 2\n",
        "}\n",
        "\n",
        "# Convert to DataFrame\n",
        "custom_df = pd.DataFrame([custom_input])\n",
        "\n",
        "# Scale the input\n",
        "custom_df = scaler.transform(custom_df)\n",
        "\n",
        "# Predict using the model\n",
        "nb_pred = nb_model.predict(custom_df)\n",
        "print(f\"Naive Bayes Prediction: {'Fake' if nb_pred[0] == 1 else 'Real'}\")"
      ],
      "metadata": {
        "colab": {
          "base_uri": "https://localhost:8080/"
        },
        "id": "C2Y9795cK9PQ",
        "outputId": "dd7d14b6-3248-4efe-8c64-68f6f43035b2"
      },
      "execution_count": 9,
      "outputs": [
        {
          "output_type": "stream",
          "name": "stdout",
          "text": [
            "Naive Bayes Prediction: Fake\n"
          ]
        }
      ]
    }
  ]
}