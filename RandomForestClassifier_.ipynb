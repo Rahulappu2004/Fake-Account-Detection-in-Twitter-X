{
  "nbformat": 4,
  "nbformat_minor": 0,
  "metadata": {
    "colab": {
      "provenance": [],
      "include_colab_link": true
    },
    "kernelspec": {
      "name": "python3",
      "display_name": "Python 3"
    },
    "language_info": {
      "name": "python"
    }
  },
  "cells": [
    {
      "cell_type": "markdown",
      "metadata": {
        "id": "view-in-github",
        "colab_type": "text"
      },
      "source": [
        "<a href=\"https://colab.research.google.com/github/Rahulappu2004/Fake-Account-Detection-in-Twitter-X/blob/main/RandomForestClassifier_.ipynb\" target=\"_parent\"><img src=\"https://colab.research.google.com/assets/colab-badge.svg\" alt=\"Open In Colab\"/></a>"
      ]
    },
    {
      "cell_type": "code",
      "source": [
        "# Step 1: Import Libraries\n",
        "import pandas as pd\n",
        "import numpy as np\n",
        "from sklearn.model_selection import train_test_split\n",
        "from sklearn.preprocessing import LabelEncoder, StandardScaler\n",
        "from sklearn.ensemble import RandomForestClassifier\n",
        "from sklearn.metrics import accuracy_score, precision_score, recall_score, f1_score"
      ],
      "metadata": {
        "id": "Gp6GisgmGxOx"
      },
      "execution_count": 6,
      "outputs": []
    },
    {
      "cell_type": "code",
      "source": [
        "# Load the data\n",
        "df = pd.read_csv('/content/bot_detection_data.csv')"
      ],
      "metadata": {
        "id": "wPo690RQIVfX"
      },
      "execution_count": 8,
      "outputs": []
    },
    {
      "cell_type": "code",
      "source": [
        "# Handle missing values\n",
        "df = df.fillna(0)\n",
        "\n",
        "# Encode categorical variables\n",
        "label_encoder = LabelEncoder()\n",
        "df['Verified'] = label_encoder.fit_transform(df['Verified'])\n",
        "df['Location'] = label_encoder.fit_transform(df['Location'])\n",
        "df['Bot Label'] = label_encoder.fit_transform(df['Bot Label'])\n",
        "\n",
        "# Drop unnecessary columns\n",
        "df = df.drop(['User ID', 'Username', 'Created At'], axis=1)\n",
        "\n",
        "# Convert Hashtags to a numerical feature\n",
        "df['Hashtags'] = df['Hashtags'].apply(lambda x: len(x.split(',')) if isinstance(x, str) else 0)\n",
        "\n",
        "# Define features (X) and target (y)\n",
        "X = df.drop('Bot Label', axis=1)\n",
        "y = df['Bot Label']"
      ],
      "metadata": {
        "id": "eA4XWTbTIeZT"
      },
      "execution_count": 9,
      "outputs": []
    },
    {
      "cell_type": "code",
      "source": [
        "# Split the data\n",
        "X_train, X_test, y_train, y_test = train_test_split(X, y, test_size=0.2, random_state=42)\n",
        "\n",
        "# Drop or encode the 'Tweet' column before scaling\n",
        "X_train = X_train.drop('Tweet', axis=1)  # Drop if 'Tweet' is not needed for the model\n",
        "X_test = X_test.drop('Tweet', axis=1)    # Drop if 'Tweet' is not needed for the model\n",
        "\n",
        "# Scale the features\n",
        "scaler = StandardScaler()\n",
        "X_train = scaler.fit_transform(X_train)\n",
        "X_test = scaler.transform(X_test)"
      ],
      "metadata": {
        "id": "WpPrIe8YIiW-"
      },
      "execution_count": 12,
      "outputs": []
    },
    {
      "cell_type": "code",
      "source": [
        "rf_model = RandomForestClassifier(random_state=42)\n",
        "\n",
        "# Train the model\n",
        "rf_model.fit(X_train, y_train)\n",
        "\n",
        "# Make predictions\n",
        "y_pred_rf = rf_model.predict(X_test)"
      ],
      "metadata": {
        "id": "gojhF4skI0Uy"
      },
      "execution_count": 13,
      "outputs": []
    },
    {
      "cell_type": "code",
      "source": [
        "# Evaluate the model\n",
        "accuracy_rf = accuracy_score(y_test, y_pred_rf)\n",
        "precision_rf = precision_score(y_test, y_pred_rf)\n",
        "recall_rf = recall_score(y_test, y_pred_rf)\n",
        "f1_rf = f1_score(y_test, y_pred_rf)\n",
        "\n",
        "print(\"Random Forest Classifier:\")\n",
        "print(f\"Accuracy: {accuracy_rf:.4f}\")\n",
        "print(f\"Precision: {precision_rf:.4f}\")\n",
        "print(f\"Recall: {recall_rf:.4f}\")\n",
        "print(f\"F1-Score: {f1_rf:.4f}\")"
      ],
      "metadata": {
        "colab": {
          "base_uri": "https://localhost:8080/"
        },
        "id": "wX_uPIJpI686",
        "outputId": "47af28f0-7518-47ac-e2a9-297caf5485d1"
      },
      "execution_count": 14,
      "outputs": [
        {
          "output_type": "stream",
          "name": "stdout",
          "text": [
            "Random Forest Classifier:\n",
            "Accuracy: 0.5054\n",
            "Precision: 0.5089\n",
            "Recall: 0.4881\n",
            "F1-Score: 0.4983\n"
          ]
        }
      ]
    },
    {
      "cell_type": "code",
      "source": [
        "from sklearn.preprocessing import StandardScaler # Assuming scaler is already defined\n",
        "\n",
        "# Function to get custom input from the user\n",
        "def get_custom_input():\n",
        "    custom_input = {}\n",
        "    print(\"Enter values for the following features:\")\n",
        "    for feature in ['Retweet Count', 'Mention Count', 'Follower Count', 'Verified', 'Location', 'Hashtags']:\n",
        "        while True:\n",
        "            try:\n",
        "                value = int(input(f\"{feature}: \"))\n",
        "                custom_input[feature] = value\n",
        "                break\n",
        "            except ValueError:\n",
        "                print(\"Invalid input. Please enter an integer.\")\n",
        "    return custom_input\n",
        "\n",
        "# Get custom input from the user\n",
        "custom_input = get_custom_input()\n",
        "\n",
        "# Convert to DataFrame\n",
        "custom_df = pd.DataFrame([custom_input])\n",
        "\n",
        "# Scale the input\n",
        "custom_df = scaler.transform(custom_df)\n",
        "\n",
        "# Predict using the model\n",
        "rf_pred = rf_model.predict(custom_df)\n",
        "print(f\"Random Forest Prediction: {'Fake' if rf_pred[0] == 1 else 'Real'}\")"
      ],
      "metadata": {
        "colab": {
          "base_uri": "https://localhost:8080/"
        },
        "id": "cleLpkItG7al",
        "outputId": "69578264-f2c2-44df-e057-063915436f8b"
      },
      "execution_count": 17,
      "outputs": [
        {
          "output_type": "stream",
          "name": "stdout",
          "text": [
            "Enter values for the following features:\n",
            "Retweet Count: 3\n",
            "Mention Count: 1\n",
            "Follower Count: 3\n",
            "Verified: 0\n",
            "Location: 1\n",
            "Hashtags: 1\n",
            "Random Forest Prediction: Real\n"
          ]
        }
      ]
    },
    {
      "cell_type": "code",
      "source": [],
      "metadata": {
        "id": "dNNOQIeJJMdk"
      },
      "execution_count": null,
      "outputs": []
    }
  ]
}